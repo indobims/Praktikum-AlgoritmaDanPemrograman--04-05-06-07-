{
  "nbformat": 4,
  "nbformat_minor": 0,
  "metadata": {
    "colab": {
      "provenance": [],
      "authorship_tag": "ABX9TyO3boPavOsHcftL8ZI0v3ht",
      "include_colab_link": true
    },
    "kernelspec": {
      "name": "python3",
      "display_name": "Python 3"
    },
    "language_info": {
      "name": "python"
    }
  },
  "cells": [
    {
      "cell_type": "markdown",
      "metadata": {
        "id": "view-in-github",
        "colab_type": "text"
      },
      "source": [
        "<a href=\"https://colab.research.google.com/github/indobims/Praktikum-AlgoritmaDanPemrograman--04-05-06-07-/blob/main/Penugasan07.ipynb\" target=\"_parent\"><img src=\"https://colab.research.google.com/assets/colab-badge.svg\" alt=\"Open In Colab\"/></a>"
      ]
    },
    {
      "cell_type": "markdown",
      "source": [
        "**3.Tuple Sederhana**"
      ],
      "metadata": {
        "id": "k_Qpj4xMj-5T"
      }
    },
    {
      "cell_type": "code",
      "execution_count": 1,
      "metadata": {
        "colab": {
          "base_uri": "https://localhost:8080/"
        },
        "id": "Rf2TX2tPiKyx",
        "outputId": "b02e27d5-aa61-4b63-841c-1cd7c606efb1"
      },
      "outputs": [
        {
          "output_type": "stream",
          "name": "stdout",
          "text": [
            "Nama: Budi Santoso\n",
            "Umur: 20\n",
            "Prodi: Teknik Komputer\n"
          ]
        }
      ],
      "source": [
        "mahasiswa = (\"Budi Santoso\", 20, \"Teknik Komputer\")\n",
        "\n",
        "print(f\"Nama: {mahasiswa[0]}\")\n",
        "print(f\"Umur: {mahasiswa[1]}\")\n",
        "print(f\"Prodi: {mahasiswa[2]}\")"
      ]
    },
    {
      "cell_type": "markdown",
      "source": [
        "**4.Tuple Tidak Bisa Diubah**"
      ],
      "metadata": {
        "id": "l6w7u2cDkHQf"
      }
    },
    {
      "cell_type": "code",
      "source": [
        "angka = (1, 2, 3)\n",
        "print(f\"Tuple awal: {angka}\")\n",
        "try:\n",
        "    angka[0] = 10\n",
        "except TypeError as e:\n",
        "    print(f\"Error yang terjadi: {e}\")\n",
        "\n",
        "print(\"\\nPenjelasan:\")\n",
        "print(\"Python memberikan error 'TypeError: 'tuple' object does not support item assignment'.\")\n",
        "print(\"Ini terjadi karena tuple adalah tipe data yang bersifat immutable (tidak bisa diubah).\")\n",
        "print(\"Setelah sebuah tuple dibuat, elemen di dalamnya tidak dapat diubah, ditambah, atau dihapus.\")"
      ],
      "metadata": {
        "colab": {
          "base_uri": "https://localhost:8080/"
        },
        "id": "AydMVWZJkVlv",
        "outputId": "46bf80e2-e3dc-439b-eeb6-a47e58a63544"
      },
      "execution_count": 2,
      "outputs": [
        {
          "output_type": "stream",
          "name": "stdout",
          "text": [
            "Tuple awal: (1, 2, 3)\n",
            "Error yang terjadi: 'tuple' object does not support item assignment\n",
            "\n",
            "Penjelasan:\n",
            "Python memberikan error 'TypeError: 'tuple' object does not support item assignment'.\n",
            "Ini terjadi karena tuple adalah tipe data yang bersifat immutable (tidak bisa diubah).\n",
            "Setelah sebuah tuple dibuat, elemen di dalamnya tidak dapat diubah, ditambah, atau dihapus.\n"
          ]
        }
      ]
    },
    {
      "cell_type": "markdown",
      "source": [
        "**5.Dictionary Dasar**"
      ],
      "metadata": {
        "id": "Q2SVOk8ZkdLU"
      }
    },
    {
      "cell_type": "code",
      "source": [
        "buku = {\n",
        "    \"Judul\": \"Algoritma & Pemrograman\",\n",
        "    \"Penulis\": \"Munir\",\n",
        "    \"Tahun\": 2021\n",
        "}\n",
        "\n",
        "print(f\"Judul: {buku['Judul']}\")\n",
        "print(f\"Penulis: {buku['Penulis']}\")\n",
        "print(f\"Tahun: {buku['Tahun']}\")"
      ],
      "metadata": {
        "colab": {
          "base_uri": "https://localhost:8080/"
        },
        "id": "wPz7A67qktZD",
        "outputId": "d92c2955-b0a3-4580-975e-5bfb576e3356"
      },
      "execution_count": 3,
      "outputs": [
        {
          "output_type": "stream",
          "name": "stdout",
          "text": [
            "Judul: Algoritma & Pemrograman\n",
            "Penulis: Munir\n",
            "Tahun: 2021\n"
          ]
        }
      ]
    },
    {
      "cell_type": "markdown",
      "source": [
        "**6. Operasi Dictionary**"
      ],
      "metadata": {
        "id": "NlsKAuSlk3SL"
      }
    },
    {
      "cell_type": "code",
      "source": [
        "dosen = {\n",
        "    \"NIP\": \"12345\",\n",
        "    \"Nama\": \"Budi\",\n",
        "    \"Prodi\": \"TRK\"\n",
        "}\n",
        "print(f\"Data awal: {dosen}\")\n",
        "\n",
        "dosen[\"Umur\"] = 40\n",
        "\n",
        "dosen[\"Prodi\"] = \"Teknik Komputer\"\n",
        "\n",
        "del dosen[\"Umur\"]\n",
        "\n",
        "print(f\"Hasil akhir: {dosen}\")"
      ],
      "metadata": {
        "colab": {
          "base_uri": "https://localhost:8080/"
        },
        "id": "wtxakDzLk7Ui",
        "outputId": "25c2759a-9f0b-437a-c0d8-d712a37dc1b3"
      },
      "execution_count": 4,
      "outputs": [
        {
          "output_type": "stream",
          "name": "stdout",
          "text": [
            "Data awal: {'NIP': '12345', 'Nama': 'Budi', 'Prodi': 'TRK'}\n",
            "Hasil akhir: {'NIP': '12345', 'Nama': 'Budi', 'Prodi': 'Teknik Komputer'}\n"
          ]
        }
      ]
    },
    {
      "cell_type": "markdown",
      "source": [
        "**7. Set dan Himpunan**"
      ],
      "metadata": {
        "id": "NeTzq9DolG-L"
      }
    },
    {
      "cell_type": "code",
      "source": [
        "A = {\"Matematika\", \"Algoritma\", \"Bahasa Inggris\"}\n",
        "B = {\"Algoritma\", \"Basis Data\", \"Matematika\"}\n",
        "\n",
        "print(f\"Set A: {A}\")\n",
        "print(f\"Set B: {B}\")\n",
        "\n",
        "union_ab = A.union(B)\n",
        "print(f\"\\nUnion (Gabungan): {union_ab}\")\n",
        "\n",
        "intersection_ab = A.intersection(B)\n",
        "print(f\"Intersection (Irisan): {intersection_ab}\")\n",
        "\n",
        "difference_ab = A.difference(B)\n",
        "print(f\"Difference (Hanya di A): {difference_ab}\")"
      ],
      "metadata": {
        "colab": {
          "base_uri": "https://localhost:8080/"
        },
        "id": "Zzsm5-xFlKtY",
        "outputId": "58a59b75-3ec9-45a7-a380-23e4c3635cbb"
      },
      "execution_count": 5,
      "outputs": [
        {
          "output_type": "stream",
          "name": "stdout",
          "text": [
            "Set A: {'Bahasa Inggris', 'Algoritma', 'Matematika'}\n",
            "Set B: {'Algoritma', 'Basis Data', 'Matematika'}\n",
            "\n",
            "Union (Gabungan): {'Matematika', 'Basis Data', 'Bahasa Inggris', 'Algoritma'}\n",
            "Intersection (Irisan): {'Algoritma', 'Matematika'}\n",
            "Difference (Hanya di A): {'Bahasa Inggris'}\n"
          ]
        }
      ]
    },
    {
      "cell_type": "markdown",
      "source": [
        "**8.Studi Kasus Dictionary**"
      ],
      "metadata": {
        "id": "oG7TMqxflSFS"
      }
    },
    {
      "cell_type": "code",
      "source": [
        "nilai_mahasiswa = {\n",
        "    \"Andi\": 85,\n",
        "    \"Budi\": 90,\n",
        "    \"Cici\": 78\n",
        "}\n",
        "\n",
        "print(\"Daftar Nilai Mahasiswa:\")\n",
        "for nama, nilai in nilai_mahasiswa.items():\n",
        "    print(f\"- {nama}: {nilai}\")\n",
        "\n",
        "total_nilai = sum(nilai_mahasiswa.values())\n",
        "jumlah_mahasiswa = len(nilai_mahasiswa)\n",
        "rata_rata = total_nilai / jumlah_mahasiswa\n",
        "\n",
        "print(f\"\\nRata-rata nilai: {rata_rata:.2f}\")"
      ],
      "metadata": {
        "colab": {
          "base_uri": "https://localhost:8080/"
        },
        "id": "x-9Ti44QlWBK",
        "outputId": "4fe313e8-71c6-43a3-e43c-7d2dfce1b8d3"
      },
      "execution_count": 6,
      "outputs": [
        {
          "output_type": "stream",
          "name": "stdout",
          "text": [
            "Daftar Nilai Mahasiswa:\n",
            "- Andi: 85\n",
            "- Budi: 90\n",
            "- Cici: 78\n",
            "\n",
            "Rata-rata nilai: 84.33\n"
          ]
        }
      ]
    },
    {
      "cell_type": "markdown",
      "source": [
        "**9. Studi Kasus Set – Klub Mahasiswa**"
      ],
      "metadata": {
        "id": "cq6ESeKqlYkb"
      }
    },
    {
      "cell_type": "code",
      "source": [
        "klub_a = {\"Andi\", \"Budi\", \"Cici\"}\n",
        "klub_b = {\"Cici\", \"Deni\", \"Eka\"}\n",
        "\n",
        "print(f\"Klub A: {klub_a}\")\n",
        "print(f\"Klub B: {klub_b}\")\n",
        "\n",
        "semua_anggota = klub_a.union(klub_b)\n",
        "print(f\"\\nDaftar seluruh anggota: {semua_anggota}\")\n",
        "\n",
        "anggota_kedua_klub = klub_a.intersection(klub_b)\n",
        "print(f\"Anggota yang ada di kedua klub: {anggota_kedua_klub}\")\n",
        "\n",
        "anggota_hanya_a = klub_a.difference(klub_b)\n",
        "print(f\"Anggota yang hanya ada di Klub A: {anggota_hanya_a}\")"
      ],
      "metadata": {
        "colab": {
          "base_uri": "https://localhost:8080/"
        },
        "id": "5F6UwUdPlbFf",
        "outputId": "9dc7cda3-7ce8-46fd-c898-f8faaa141ed3"
      },
      "execution_count": 7,
      "outputs": [
        {
          "output_type": "stream",
          "name": "stdout",
          "text": [
            "Klub A: {'Cici', 'Budi', 'Andi'}\n",
            "Klub B: {'Cici', 'Eka', 'Deni'}\n",
            "\n",
            "Daftar seluruh anggota: {'Cici', 'Budi', 'Eka', 'Deni', 'Andi'}\n",
            "Anggota yang ada di kedua klub: {'Cici'}\n",
            "Anggota yang hanya ada di Klub A: {'Budi', 'Andi'}\n"
          ]
        }
      ]
    }
  ]
}