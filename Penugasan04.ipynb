{
  "nbformat": 4,
  "nbformat_minor": 0,
  "metadata": {
    "colab": {
      "provenance": [],
      "authorship_tag": "ABX9TyNgjpMeKcZxkuMFIlyykb9D",
      "include_colab_link": true
    },
    "kernelspec": {
      "name": "python3",
      "display_name": "Python 3"
    },
    "language_info": {
      "name": "python"
    }
  },
  "cells": [
    {
      "cell_type": "markdown",
      "metadata": {
        "id": "view-in-github",
        "colab_type": "text"
      },
      "source": [
        "<a href=\"https://colab.research.google.com/github/indobims/Praktikum-AlgoritmaDanPemrograman--04-05-06-07-/blob/main/Penugasan04.ipynb\" target=\"_parent\"><img src=\"https://colab.research.google.com/assets/colab-badge.svg\" alt=\"Open In Colab\"/></a>"
      ]
    },
    {
      "cell_type": "markdown",
      "source": [
        "**3. Menampilkan Deret Angka**"
      ],
      "metadata": {
        "id": "u9XIBTiNwGTw"
      }
    },
    {
      "cell_type": "code",
      "execution_count": null,
      "metadata": {
        "colab": {
          "base_uri": "https://localhost:8080/"
        },
        "id": "1flp03x5wDev",
        "outputId": "e977ccce-c70e-4fca-9dff-467ebb5f8194"
      },
      "outputs": [
        {
          "output_type": "stream",
          "name": "stdout",
          "text": [
            "## 3. Menampilkan Deret Angka ##\n",
            "3\n",
            "6\n",
            "9\n",
            "12\n",
            "15\n",
            "18\n",
            "21\n",
            "24\n",
            "27\n",
            "30\n"
          ]
        }
      ],
      "source": [
        "print(\"## 3. Menampilkan Deret Angka ##\")\n",
        "for i in range(3, 31, 3):\n",
        "    print(i)"
      ]
    },
    {
      "cell_type": "markdown",
      "source": [
        "**4. Hitung Faktorial**"
      ],
      "metadata": {
        "id": "G4FGSW2p6Pp7"
      }
    },
    {
      "cell_type": "code",
      "source": [
        "print(\"## 4. Hitung Faktorial (while) ##\")\n",
        "\n",
        "try:\n",
        "    bilangan = int(input(\"Masukkan bilangan: \"))\n",
        "\n",
        "    if bilangan < 0:\n",
        "        print(\"Faktorial tidak terdefinisi untuk bilangan negatif.\")\n",
        "    else:\n",
        "        faktorial = 1\n",
        "        i = bilangan\n",
        "\n",
        "        while i > 0:\n",
        "            faktorial *= i\n",
        "            i -= 1\n",
        "\n",
        "        print(f\"Faktorial dari {bilangan} adalah {faktorial}\")\n",
        "\n",
        "except ValueError:\n",
        "    print(\"Input tidak valid, harap masukkan angka.\")"
      ],
      "metadata": {
        "colab": {
          "base_uri": "https://localhost:8080/"
        },
        "id": "0eGgB4CE6Slc",
        "outputId": "b76030de-c717-4965-d394-e65220d02859"
      },
      "execution_count": null,
      "outputs": [
        {
          "output_type": "stream",
          "name": "stdout",
          "text": [
            "## 4. Hitung Faktorial (while) ##\n",
            "Masukkan bilangan: 5\n",
            "Faktorial dari 5 adalah 120\n"
          ]
        }
      ]
    },
    {
      "cell_type": "markdown",
      "source": [
        "**5. Pola Segitiga Terbalik**"
      ],
      "metadata": {
        "id": "nLDRGtcu7-6L"
      }
    },
    {
      "cell_type": "code",
      "source": [
        "print(\"\\n## 5. Pola Segitiga Terbalik (nested loop) ##\")\n",
        "\n",
        "tinggi = 5\n",
        "\n",
        "for i in range(tinggi, 0, -1):\n",
        "    for j in range(i):\n",
        "        print(\"*\", end=\"\")\n",
        "\n",
        "    print()"
      ],
      "metadata": {
        "colab": {
          "base_uri": "https://localhost:8080/"
        },
        "id": "yUsC5xSv8Cij",
        "outputId": "bad05dd8-b1cb-4485-90d8-055e22db38c7"
      },
      "execution_count": null,
      "outputs": [
        {
          "output_type": "stream",
          "name": "stdout",
          "text": [
            "\n",
            "## 5. Pola Segitiga Terbalik (nested loop) ##\n",
            "*****\n",
            "****\n",
            "***\n",
            "**\n",
            "*\n"
          ]
        }
      ]
    },
    {
      "cell_type": "markdown",
      "source": [
        "**6. Cari Bilangan Prima dengan Break**"
      ],
      "metadata": {
        "id": "QwtsaB4s8znm"
      }
    },
    {
      "cell_type": "code",
      "source": [
        "print(\"\\n## 6. Cari Bilangan Prima (break) ##\")\n",
        "\n",
        "try:\n",
        "    bilangan = int(input(\"Masukkan bilangan untuk dicek: \"))\n",
        "    adalah_prima = True\n",
        "\n",
        "    if bilangan <= 1:\n",
        "        adalah_prima = False\n",
        "    else:\n",
        "        for i in range(2, bilangan):\n",
        "            if (bilangan % i) == 0:\n",
        "                adalah_prima = False\n",
        "                break\n",
        "\n",
        "\n",
        "    if adalah_prima:\n",
        "        print(f\"{bilangan} adalah bilangan prima.\")\n",
        "    else:\n",
        "        print(f\"{bilangan} BUKAN bilangan prima.\")\n",
        "\n",
        "except ValueError:\n",
        "    print(\"Input tidak valid, harap masukkan angka.\")"
      ],
      "metadata": {
        "colab": {
          "base_uri": "https://localhost:8080/"
        },
        "id": "OEPW_LJs81qW",
        "outputId": "2bb7a066-47d6-44d1-d66f-cdf73712f887"
      },
      "execution_count": null,
      "outputs": [
        {
          "output_type": "stream",
          "name": "stdout",
          "text": [
            "\n",
            "## 6. Cari Bilangan Prima (break) ##\n",
            "Masukkan bilangan untuk dicek: 2\n",
            "2 adalah bilangan prima.\n"
          ]
        }
      ]
    },
    {
      "cell_type": "markdown",
      "source": [
        "**7. Tampilkan Hanya Bilangan Genap dengan Continue**"
      ],
      "metadata": {
        "id": "mwGt-sUr9Q5y"
      }
    },
    {
      "cell_type": "code",
      "source": [
        "print(\"\\n## 7. Bilangan Genap (continue) ##\")\n",
        "\n",
        "for i in range(1, 21):\n",
        "    if i % 2 != 0:\n",
        "        continue\n",
        "\n",
        "    print(i)"
      ],
      "metadata": {
        "colab": {
          "base_uri": "https://localhost:8080/"
        },
        "id": "NeKZeZVW9c3c",
        "outputId": "d6e85fe2-185f-4c0a-a637-f04220cfff1e"
      },
      "execution_count": null,
      "outputs": [
        {
          "output_type": "stream",
          "name": "stdout",
          "text": [
            "\n",
            "## 7. Bilangan Genap (continue) ##\n",
            "2\n",
            "4\n",
            "6\n",
            "8\n",
            "10\n",
            "12\n",
            "14\n",
            "16\n",
            "18\n",
            "20\n"
          ]
        }
      ]
    },
    {
      "cell_type": "markdown",
      "source": [
        "**8. Iterasi Dictionary Mahasiswa**"
      ],
      "metadata": {
        "id": "GejrX6Vw9h0G"
      }
    },
    {
      "cell_type": "code",
      "source": [
        "print(\"\\n## 8. Iterasi Dictionary Mahasiswa ##\")\n",
        "\n",
        "mahasiswa = {\"Nama\":\"Budi\", \"Umur\":21, \"Prodi\":\"Teknik Komputer\"}\n",
        "\n",
        "for key, value in mahasiswa.items():\n",
        "    print(f\"{key} : {value}\")"
      ],
      "metadata": {
        "colab": {
          "base_uri": "https://localhost:8080/"
        },
        "id": "2B6s_OaW9mIJ",
        "outputId": "5fbb3234-1085-45d8-85cd-763cf7207a4e"
      },
      "execution_count": null,
      "outputs": [
        {
          "output_type": "stream",
          "name": "stdout",
          "text": [
            "\n",
            "## 8. Iterasi Dictionary Mahasiswa ##\n",
            "Nama : Budi\n",
            "Umur : 21\n",
            "Prodi : Teknik Komputer\n"
          ]
        }
      ]
    },
    {
      "cell_type": "markdown",
      "source": [
        "**9. Enumerate Daftar Barang**"
      ],
      "metadata": {
        "id": "NdeWBGvS9pdT"
      }
    },
    {
      "cell_type": "code",
      "source": [
        "print(\"\\n## 9. Enumerate Daftar Barang ##\")\n",
        "\n",
        "barang = [\"Buku\", \"Pulpen\", \"Tas\"]\n",
        "\n",
        "for nomor, item in enumerate(barang, start=1):\n",
        "    print(f\"{nomor} {item}\")"
      ],
      "metadata": {
        "colab": {
          "base_uri": "https://localhost:8080/"
        },
        "id": "GMSMqYMw9rXb",
        "outputId": "85ea73a4-a48f-4c5e-d137-84d95d1a9ee8"
      },
      "execution_count": null,
      "outputs": [
        {
          "output_type": "stream",
          "name": "stdout",
          "text": [
            "\n",
            "## 9. Enumerate Daftar Barang ##\n",
            "1 Buku\n",
            "2 Pulpen\n",
            "3 Tas\n"
          ]
        }
      ]
    },
    {
      "cell_type": "markdown",
      "source": [
        "**10. Studi Kasus – Kasir Diskon**"
      ],
      "metadata": {
        "id": "QwI9GoY590Sf"
      }
    },
    {
      "cell_type": "code",
      "source": [
        "daftar_belanja = []\n",
        "total_belanja = 0\n",
        "DISKON_THRESHOLD = 200000\n",
        "PERSENTASE_DISKON = 0.10\n",
        "\n",
        "while True:\n",
        "    nama_barang = input(\"Nama Barang: \")\n",
        "    if nama_barang.lower() == 'selesai':\n",
        "        break\n",
        "\n",
        "\n",
        "    try:\n",
        "        harga_barang = int(input(f\"Harga {nama_barang}: Rp \"))\n",
        "\n",
        "        daftar_belanja.append({'nama': nama_barang, 'harga': harga_barang})\n",
        "\n",
        "        total_belanja += harga_barang\n",
        "        print(f\"-> '{nama_barang}' (Rp {harga_barang:,}) telah ditambahkan.\\n\")\n",
        "\n",
        "    except ValueError:\n",
        "\n",
        "        print(\"! Harga harus berupa angka. Barang tidak ditambahkan.\\n\")\n",
        "\n",
        "print(\"\\n...Menghitung total belanja...\")\n",
        "\n",
        "diskon = 0\n",
        "\n",
        "if total_belanja >= DISKON_THRESHOLD:\n",
        "    diskon = total_belanja * PERSENTASE_DISKON\n",
        "\n",
        "total_setelah_diskon = total_belanja - diskon\n",
        "\n",
        "\n",
        "print(\"        STRUK BELANJA         \")\n",
        "\n",
        "if not daftar_belanja:\n",
        "    print(\"Tidak ada barang yang dibeli.\")\n",
        "else:\n",
        "    print(\"Daftar Barang:\")\n",
        "\n",
        "    for item in daftar_belanja:\n",
        "        print(f\"- {item['nama']:<15} : Rp {item['harga']:>10,}\")\n",
        "\n",
        "    print(\"------------------------------\")\n",
        "\n",
        "    print(f\"Subtotal             : Rp {int(total_belanja):>10,}\")\n",
        "\n",
        "\n",
        "    if diskon > 0:\n",
        "        print(f\"Diskon (10%)         : -Rp {int(diskon):>10,}\")\n",
        "        print(\"------------------------------\")\n",
        "\n",
        "    print(f\"TOTAL BAYAR          : Rp {int(total_setelah_diskon):>10,}\")\n",
        "\n",
        "\n",
        "print(\"   Terima kasih telah berbelanja!   \")\n"
      ],
      "metadata": {
        "colab": {
          "base_uri": "https://localhost:8080/"
        },
        "id": "Lctr00ix93Xp",
        "outputId": "94e9cae6-b871-45cb-834b-434ff9e03df8"
      },
      "execution_count": null,
      "outputs": [
        {
          "output_type": "stream",
          "name": "stdout",
          "text": [
            "Nama Barang: Speaker\n",
            "Harga Speaker: Rp 200000\n",
            "-> 'Speaker' (Rp 200,000) telah ditambahkan.\n",
            "\n",
            "Nama Barang: selesai\n",
            "\n",
            "...Menghitung total belanja...\n",
            "        STRUK BELANJA         \n",
            "Daftar Barang:\n",
            "- Speaker         : Rp    200,000\n",
            "------------------------------\n",
            "Subtotal             : Rp    200,000\n",
            "Diskon (10%)         : -Rp     20,000\n",
            "------------------------------\n",
            "TOTAL BAYAR          : Rp    180,000\n",
            "   Terima kasih telah berbelanja!   \n"
          ]
        }
      ]
    }
  ]
}