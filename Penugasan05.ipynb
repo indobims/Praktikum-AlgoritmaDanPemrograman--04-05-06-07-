{
  "nbformat": 4,
  "nbformat_minor": 0,
  "metadata": {
    "colab": {
      "provenance": [],
      "authorship_tag": "ABX9TyOA2XcD7D+haDu8kakLSJaJ",
      "include_colab_link": true
    },
    "kernelspec": {
      "name": "python3",
      "display_name": "Python 3"
    },
    "language_info": {
      "name": "python"
    }
  },
  "cells": [
    {
      "cell_type": "markdown",
      "metadata": {
        "id": "view-in-github",
        "colab_type": "text"
      },
      "source": [
        "<a href=\"https://colab.research.google.com/github/indobims/Praktikum-AlgoritmaDanPemrograman--04-05-06-07-/blob/main/Penugasan05.ipynb\" target=\"_parent\"><img src=\"https://colab.research.google.com/assets/colab-badge.svg\" alt=\"Open In Colab\"/></a>"
      ]
    },
    {
      "cell_type": "markdown",
      "source": [
        "**3. Indexing dan Slicing**"
      ],
      "metadata": {
        "id": "ACmk28D_GLy9"
      }
    },
    {
      "cell_type": "code",
      "execution_count": null,
      "metadata": {
        "colab": {
          "base_uri": "https://localhost:8080/"
        },
        "id": "t2g7OaF9EIpr",
        "outputId": "42e5c642-d5c1-4aaa-93b5-c5eb2dc623fd"
      },
      "outputs": [
        {
          "output_type": "stream",
          "name": "stdout",
          "text": [
            "Huruf pertama: P\n",
            "Huruf terakhir: g\n",
            "Hasil slicing: Negeri\n"
          ]
        }
      ],
      "source": [
        "teks = \"Politeknik Negeri Semarang\"\n",
        "\n",
        "# Huruf pertama (index 0)\n",
        "huruf_pertama = teks[0]\n",
        "print(f\"Huruf pertama: {huruf_pertama}\")\n",
        "\n",
        "# Huruf terakhir (index -1)\n",
        "huruf_terakhir = teks[-1]\n",
        "print(f\"Huruf terakhir: {huruf_terakhir}\")\n",
        "\n",
        "# Slicing kata \"Negeri\" (dimulai dari index 11 sampai 16)\n",
        "kata_negeri = teks[11:17]\n",
        "print(f\"Hasil slicing: {kata_negeri}\")"
      ]
    },
    {
      "cell_type": "markdown",
      "source": [
        "**4. Manipulasi String**"
      ],
      "metadata": {
        "id": "lTeoBQmNGRR-"
      }
    },
    {
      "cell_type": "code",
      "source": [
        "kalimat = input(\"Masukkan sebuah kalimat: \")\n",
        "\n",
        "# Mengubah ke huruf kapital\n",
        "print(f\"Versi Kapital: {kalimat.upper()}\")\n",
        "\n",
        "# Mengubah ke huruf kecil\n",
        "print(f\"Versi Kecil: {kalimat.lower()}\")\n",
        "\n",
        "# Menghitung panjang string\n",
        "print(f\"Panjang Kalimat: {len(kalimat)} karakter\")"
      ],
      "metadata": {
        "colab": {
          "base_uri": "https://localhost:8080/"
        },
        "id": "-wAKaZNnGUg1",
        "outputId": "a4a15a5d-0160-4dc2-ee18-fa870e52a13f"
      },
      "execution_count": null,
      "outputs": [
        {
          "output_type": "stream",
          "name": "stdout",
          "text": [
            "Masukkan sebuah kalimat: polines\n",
            "Versi Kapital: POLINES\n",
            "Versi Kecil: polines\n",
            "Panjang Kalimat: 7 karakter\n"
          ]
        }
      ]
    },
    {
      "cell_type": "markdown",
      "source": [
        "**5. Validasi Username**"
      ],
      "metadata": {
        "id": "WK0uNZxqGWh9"
      }
    },
    {
      "cell_type": "code",
      "source": [
        "username = input(\"Masukkan username: \")\n",
        "\n",
        "# Mengecek apakah karakter spasi (' ') ada di dalam string username\n",
        "if \" \" in username:\n",
        "    print(\"Error: Username tidak boleh mengandung spasi.\")\n",
        "else:\n",
        "    print(\"Username valid.\")"
      ],
      "metadata": {
        "colab": {
          "base_uri": "https://localhost:8080/"
        },
        "id": "ECeKV6ulGZAJ",
        "outputId": "55652de7-3216-4301-bd62-07abecd14ccb"
      },
      "execution_count": null,
      "outputs": [
        {
          "output_type": "stream",
          "name": "stdout",
          "text": [
            "Masukkan username: indo bims\n",
            "Error: Username tidak boleh mengandung spasi.\n"
          ]
        }
      ]
    },
    {
      "cell_type": "markdown",
      "source": [
        "**6. String Formatting dengan F-String**"
      ],
      "metadata": {
        "id": "HiepVuraGgZu"
      }
    },
    {
      "cell_type": "code",
      "source": [
        "nama = input(\"Masukkan nama: \")\n",
        "umur = input(\"Masukkan umur: \")\n",
        "jurusan = input(\"Masukkan jurusan: \")\n",
        "\n",
        "print(\"\\n--- BIODATA ---\")\n",
        "print(f\"Nama: {nama}\")\n",
        "print(f\"Umur: {umur}\")\n",
        "print(f\"Jurusan: {jurusan}\")"
      ],
      "metadata": {
        "colab": {
          "base_uri": "https://localhost:8080/"
        },
        "id": "NOLKePu1GiUy",
        "outputId": "2806bd7c-7588-4e04-8537-5e747e1e7b81"
      },
      "execution_count": null,
      "outputs": [
        {
          "output_type": "stream",
          "name": "stdout",
          "text": [
            "Masukkan nama: Andi\n",
            "Masukkan umur: 20\n",
            "Masukkan jurusan: Teknologi Rekayasa Komputer\n",
            "\n",
            "--- BIODATA ---\n",
            "Nama: Andi\n",
            "Umur: 20\n",
            "Jurusan: Teknologi Rekayasa Komputer\n"
          ]
        }
      ]
    },
    {
      "cell_type": "markdown",
      "source": [
        "**7. Operasi dalam F-String**"
      ],
      "metadata": {
        "id": "akPgNBQ4Gk9X"
      }
    },
    {
      "cell_type": "code",
      "source": [
        "# Menggunakan float() agar bisa menerima angka desimal\n",
        "bil1 = float(input(\"Masukkan bilangan pertama: \"))\n",
        "bil2 = float(input(\"Masukkan bilangan kedua: \"))\n",
        "\n",
        "print(f\"Penjumlahan: {bil1 + bil2}\")\n",
        "print(f\"Perkalian: {bil1 * bil2}\")\n",
        "# :.3f digunakan untuk memformat 3 angka di belakang koma\n",
        "print(f\"Pembagian: {bil1 / bil2:.3f}\")"
      ],
      "metadata": {
        "colab": {
          "base_uri": "https://localhost:8080/"
        },
        "id": "i_Qo4YXrGmbG",
        "outputId": "c9108731-358c-4538-bee4-229791740e26"
      },
      "execution_count": null,
      "outputs": [
        {
          "output_type": "stream",
          "name": "stdout",
          "text": [
            "Masukkan bilangan pertama: 5\n",
            "Masukkan bilangan kedua: 10\n",
            "Penjumlahan: 15.0\n",
            "Perkalian: 50.0\n",
            "Pembagian: 0.500\n"
          ]
        }
      ]
    },
    {
      "cell_type": "markdown",
      "source": [
        "**8. Casting Data**"
      ],
      "metadata": {
        "id": "ZEZdFaJAGpij"
      }
    },
    {
      "cell_type": "code",
      "source": [
        "angka_str = input(\"Masukkan sebuah angka: \")\n",
        "\n",
        "# Casting ke Integer untuk dihitung kuadratnya\n",
        "angka_int = int(angka_str)\n",
        "kuadrat = angka_int ** 2\n",
        "print(f\"Input sebagai string: '{angka_str}'\")\n",
        "print(f\"Hasil kuadrat (sebagai integer): {kuadrat}\")\n",
        "\n",
        "# Casting ke Float untuk ditampilkan dengan 2 desimal\n",
        "angka_float = float(angka_str)\n",
        "# :.2f untuk menampilkan 2 angka di belakang koma\n",
        "print(f\"Input sebagai float (2 desimal): {angka_float:.2f}\")"
      ],
      "metadata": {
        "colab": {
          "base_uri": "https://localhost:8080/"
        },
        "id": "D2KwrVSrGtgF",
        "outputId": "9b601b02-57b2-458c-9c5f-df3695197652"
      },
      "execution_count": null,
      "outputs": [
        {
          "output_type": "stream",
          "name": "stdout",
          "text": [
            "Masukkan sebuah angka: 12\n",
            "Input sebagai string: '12'\n",
            "Hasil kuadrat (sebagai integer): 144\n",
            "Input sebagai float (2 desimal): 12.00\n"
          ]
        }
      ]
    },
    {
      "cell_type": "markdown",
      "source": [
        "9. Studi Kasus – Analisis Teks"
      ],
      "metadata": {
        "id": "ELuH3lgKGvtH"
      }
    },
    {
      "cell_type": "code",
      "source": [
        "# Membaca kalimat dari pengguna\n",
        "kalimat = input(\"Masukkan sebuah kalimat untuk dianalisis: \")\n",
        "\n",
        "# Memecah kalimat menjadi daftar kata (default-nya dipisah oleh spasi)\n",
        "daftar_kata = kalimat.split()\n",
        "\n",
        "if not daftar_kata:\n",
        "    # Menangani kasus jika pengguna hanya menekan Enter tanpa input\n",
        "    print(\"Anda tidak memasukkan kalimat.\")\n",
        "else:\n",
        "    # Menghitung jumlah kata\n",
        "    jumlah_kata = len(daftar_kata)\n",
        "    print(f\"Jumlah kata: {jumlah_kata}\")\n",
        "\n",
        "    # Menampilkan kata terpanjang\n",
        "    # 'key=len' memberitahu 'max' untuk mencari item berdasarkan panjangnya\n",
        "    kata_terpanjang = max(daftar_kata, key=len)\n",
        "    print(f\"Kata terpanjang: {kata_terpanjang}\")\n",
        "\n",
        "    # Menampilkan daftar kata dalam urutan abjad\n",
        "    # 'sorted()' mengembalikan daftar baru yang sudah terurut\n",
        "    urutan_abjad = sorted(daftar_kata)\n",
        "    print(f\"Urutan abjad: {urutan_abjad}\")"
      ],
      "metadata": {
        "colab": {
          "base_uri": "https://localhost:8080/"
        },
        "id": "FXWm7OquGxSN",
        "outputId": "e4294004-09b3-4811-c768-153a7dde9f34"
      },
      "execution_count": null,
      "outputs": [
        {
          "output_type": "stream",
          "name": "stdout",
          "text": [
            "Masukkan sebuah kalimat untuk dianalisis: politeknik negeri semarang\n",
            "Jumlah kata: 3\n",
            "Kata terpanjang: politeknik\n",
            "Urutan abjad: ['negeri', 'politeknik', 'semarang']\n"
          ]
        }
      ]
    }
  ]
}