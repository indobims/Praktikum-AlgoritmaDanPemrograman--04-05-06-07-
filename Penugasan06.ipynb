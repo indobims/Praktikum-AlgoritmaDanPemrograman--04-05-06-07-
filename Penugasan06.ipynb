{
  "nbformat": 4,
  "nbformat_minor": 0,
  "metadata": {
    "colab": {
      "provenance": [],
      "authorship_tag": "ABX9TyMuP6rRtuRddWLOQ7ZBvN4s",
      "include_colab_link": true
    },
    "kernelspec": {
      "name": "python3",
      "display_name": "Python 3"
    },
    "language_info": {
      "name": "python"
    }
  },
  "cells": [
    {
      "cell_type": "markdown",
      "metadata": {
        "id": "view-in-github",
        "colab_type": "text"
      },
      "source": [
        "<a href=\"https://colab.research.google.com/github/indobims/Praktikum-AlgoritmaDanPemrograman--04-05-06-07-/blob/main/Penugasan06.ipynb\" target=\"_parent\"><img src=\"https://colab.research.google.com/assets/colab-badge.svg\" alt=\"Open In Colab\"/></a>"
      ]
    },
    {
      "cell_type": "markdown",
      "source": [
        "**3. Akses Elemen List**"
      ],
      "metadata": {
        "id": "sZQTgJ2QTBRP"
      }
    },
    {
      "cell_type": "code",
      "execution_count": 1,
      "metadata": {
        "colab": {
          "base_uri": "https://localhost:8080/"
        },
        "id": "4Xz4AlKsS8jk",
        "outputId": "ea99409e-1e5b-4a94-e9a9-c231d8032a83"
      },
      "outputs": [
        {
          "output_type": "stream",
          "name": "stdout",
          "text": [
            "Nama pertama: Arya\n",
            "Nama terakhir: Eka\n",
            "Nama pada indeks ke-2: Citra\n",
            "------------------------------\n"
          ]
        }
      ],
      "source": [
        "mahasiswa = [\"Arya\", \"Bima\", \"Citra\", \"Dharma\", \"Eka\"]\n",
        "\n",
        "print(f\"Nama pertama: {mahasiswa[0]}\")\n",
        "\n",
        "print(f\"Nama terakhir: {mahasiswa[-1]}\")\n",
        "\n",
        "print(f\"Nama pada indeks ke-2: {mahasiswa[2]}\")\n",
        "print(\"-\" * 30)"
      ]
    },
    {
      "cell_type": "markdown",
      "source": [
        "**4.Operasi Dasar List**"
      ],
      "metadata": {
        "id": "8EHPdFqAThKR"
      }
    },
    {
      "cell_type": "code",
      "source": [
        "nilai = [70, 75, 80]\n",
        "print(f\"List awal: {nilai}\")\n",
        "\n",
        "nilai[1] = 85\n",
        "print(f\"Setelah nilai kedua diubah: {nilai}\")\n",
        "\n",
        "nilai.append(90)\n",
        "print(f\"Setelah ditambah 90: {nilai}\")\n",
        "\n",
        "nilai.remove(70)\n",
        "print(f\"Setelah dihapus 70: {nilai}\")\n",
        "\n",
        "print(f\"Hasil akhir: {nilai}\")\n",
        "print(\"-\" * 30)"
      ],
      "metadata": {
        "colab": {
          "base_uri": "https://localhost:8080/"
        },
        "id": "O_0rBESoXb9b",
        "outputId": "4047bdb4-2ae3-4bce-ef8a-9a7b612498bd"
      },
      "execution_count": 5,
      "outputs": [
        {
          "output_type": "stream",
          "name": "stdout",
          "text": [
            "List awal: [70, 75, 80]\n",
            "Setelah nilai kedua diubah: [70, 85, 80]\n",
            "Setelah ditambah 90: [70, 85, 80, 90]\n",
            "Setelah dihapus 70: [85, 80, 90]\n",
            "Hasil akhir: [85, 80, 90]\n",
            "------------------------------\n"
          ]
        }
      ]
    },
    {
      "cell_type": "markdown",
      "source": [
        "**5. Slicing List**"
      ],
      "metadata": {
        "id": "kthgAPr7ZJVz"
      }
    },
    {
      "cell_type": "code",
      "source": [
        "angka = list(range(1, 11))\n",
        "print(f\"List lengkap: {angka}\")\n",
        "\n",
        "print(f\"3 elemen pertama: {angka[:3]}\")\n",
        "\n",
        "print(f\"4 elemen terakhir: {angka[-4:]}\")\n",
        "\n",
        "print(f\"Elemen indeks genap: {angka[::2]}\")\n",
        "print(\"-\" * 30)"
      ],
      "metadata": {
        "colab": {
          "base_uri": "https://localhost:8080/"
        },
        "id": "BzGdEX4WZMgF",
        "outputId": "d22de036-e1ae-495c-dc2e-dc5309f3008f"
      },
      "execution_count": 6,
      "outputs": [
        {
          "output_type": "stream",
          "name": "stdout",
          "text": [
            "List lengkap: [1, 2, 3, 4, 5, 6, 7, 8, 9, 10]\n",
            "3 elemen pertama: [1, 2, 3]\n",
            "4 elemen terakhir: [7, 8, 9, 10]\n",
            "Elemen indeks genap: [1, 3, 5, 7, 9]\n",
            "------------------------------\n"
          ]
        }
      ]
    },
    {
      "cell_type": "markdown",
      "source": [
        "**6. List 2D – Matriks**"
      ],
      "metadata": {
        "id": "Nf-ycyNIZSYR"
      }
    },
    {
      "cell_type": "code",
      "source": [
        "matriks = [\n",
        "    [1, 2, 3],\n",
        "    [4, 5, 6]\n",
        "]\n",
        "\n",
        "print(f\"Baris 1, kolom 2: {matriks[0][1]}\")\n",
        "\n",
        "print(f\"Baris 2, kolom 3: {matriks[1][2]}\")\n",
        "\n",
        "print(f\"Seluruh baris 1: {matriks[0]}\")\n",
        "print(\"-\" * 30)"
      ],
      "metadata": {
        "colab": {
          "base_uri": "https://localhost:8080/"
        },
        "id": "HCArijEsZUjt",
        "outputId": "422cb702-9e35-4de4-c2e6-2a06cfba4df8"
      },
      "execution_count": 7,
      "outputs": [
        {
          "output_type": "stream",
          "name": "stdout",
          "text": [
            "Baris 1, kolom 2: 2\n",
            "Baris 2, kolom 3: 6\n",
            "Seluruh baris 1: [1, 2, 3]\n",
            "------------------------------\n"
          ]
        }
      ]
    },
    {
      "cell_type": "markdown",
      "source": [
        "**7. Operasi Matriks 2D**"
      ],
      "metadata": {
        "id": "hXNwqCgNZuER"
      }
    },
    {
      "cell_type": "code",
      "source": [
        "matriks_A = [\n",
        "    [10, 20],\n",
        "    [30, 40]\n",
        "]\n",
        "matriks_B = [\n",
        "    [5, 6],\n",
        "    [7, 8]\n",
        "]\n",
        "\n",
        "hasil_jumlah = [\n",
        "    [0, 0],\n",
        "    [0, 0]\n",
        "]\n",
        "\n",
        "for i in range(len(matriks_A)):\n",
        "    for j in range(len(matriks_A[0])):\n",
        "        hasil_jumlah[i][j] = matriks_A[i][j] + matriks_B[i][j]\n",
        "\n",
        "print(f\"Matriks A: {matriks_A}\")\n",
        "print(f\"Matriks B: {matriks_B}\")\n",
        "print(f\"Hasil Penjumlahan: {hasil_jumlah}\")\n",
        "print(\"-\" * 30)"
      ],
      "metadata": {
        "colab": {
          "base_uri": "https://localhost:8080/"
        },
        "id": "59qKauG0aOUu",
        "outputId": "898a98ab-9c7f-4ad9-8016-2e442ff3d7a3"
      },
      "execution_count": 8,
      "outputs": [
        {
          "output_type": "stream",
          "name": "stdout",
          "text": [
            "Matriks A: [[10, 20], [30, 40]]\n",
            "Matriks B: [[5, 6], [7, 8]]\n",
            "Hasil Penjumlahan: [[15, 26], [37, 48]]\n",
            "------------------------------\n"
          ]
        }
      ]
    },
    {
      "cell_type": "markdown",
      "source": [
        "**8. Rata-rata Nilai Mahasiswa**"
      ],
      "metadata": {
        "id": "Yji4PkE8aXgm"
      }
    },
    {
      "cell_type": "code",
      "source": [
        "nilai_mahasiswa = [\n",
        "    [75, 80, 85],  # Mahasiswa 1\n",
        "    [60, 70, 65],  # Mahasiswa 2\n",
        "    [90, 95, 92]   # Mahasiswa 3\n",
        "]\n",
        "\n",
        "for i in range(len(nilai_mahasiswa)):\n",
        "    nilai_satu_mhs = nilai_mahasiswa[i]\n",
        "    total_nilai = sum(nilai_satu_mhs)\n",
        "    jumlah_nilai = len(nilai_satu_mhs)\n",
        "    rata_rata = total_nilai / jumlah_nilai\n",
        "    print(f\"Rata-rata mahasiswa {i+1}: {rata_rata:.2f}\")\n",
        "\n",
        "print(\"-\" * 30)"
      ],
      "metadata": {
        "colab": {
          "base_uri": "https://localhost:8080/"
        },
        "id": "JsWjbvKZaaqM",
        "outputId": "7c018106-deab-4d63-a3aa-1929512c1733"
      },
      "execution_count": 9,
      "outputs": [
        {
          "output_type": "stream",
          "name": "stdout",
          "text": [
            "Rata-rata mahasiswa 1: 80.00\n",
            "Rata-rata mahasiswa 2: 65.00\n",
            "Rata-rata mahasiswa 3: 92.33\n",
            "------------------------------\n"
          ]
        }
      ]
    },
    {
      "cell_type": "markdown",
      "source": [
        "**9. Studi Kasus – Data Toko**"
      ],
      "metadata": {
        "id": "FESyFqRaajUB"
      }
    },
    {
      "cell_type": "code",
      "source": [
        "stok = [\n",
        "    [\"Buku\", 20],\n",
        "    [\"Pulpen\", 35],\n",
        "    [\"Penghapus\", 15]\n",
        "]\n",
        "\n",
        "print(\"Daftar Stok Barang:\")\n",
        "for barang in stok:\n",
        "    print(f\"- {barang[0]}: {barang[1]} buah\")\n",
        "barang_terbanyak = \"\"\n",
        "stok_terbanyak = 0\n",
        "\n",
        "for barang in stok:\n",
        "    nama_barang = barang[0]\n",
        "    jumlah_stok = barang[1]\n",
        "\n",
        "    if jumlah_stok > stok_terbanyak:\n",
        "        stok_terbanyak = jumlah_stok\n",
        "        barang_terbanyak = nama_barang\n",
        "\n",
        "print(\"\\nBarang dengan stok terbanyak:\")\n",
        "print(f\"{barang_terbanyak} ({stok_terbanyak} buah)\")\n",
        "print(\"-\" * 30)"
      ],
      "metadata": {
        "colab": {
          "base_uri": "https://localhost:8080/"
        },
        "id": "V0g7OQvDak6E",
        "outputId": "ec2df18c-ffed-4291-ab0b-4b99e0acd8c5"
      },
      "execution_count": 11,
      "outputs": [
        {
          "output_type": "stream",
          "name": "stdout",
          "text": [
            "Daftar Stok Barang:\n",
            "- Buku: 20 buah\n",
            "- Pulpen: 35 buah\n",
            "- Penghapus: 15 buah\n",
            "\n",
            "Barang dengan stok terbanyak:\n",
            "Pulpen (35 buah)\n",
            "------------------------------\n"
          ]
        }
      ]
    }
  ]
}